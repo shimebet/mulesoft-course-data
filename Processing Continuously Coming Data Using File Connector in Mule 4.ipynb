{
 "cells": [
  {
   "cell_type": "markdown",
   "metadata": {},
   "source": [
    "[YouTube Video Tutorial](https://youtu.be/_rkAhr2IybE)"
   ]
  },
  {
   "cell_type": "code",
   "execution_count": 2,
   "metadata": {},
   "outputs": [],
   "source": [
    "import pandas as pd\n",
    "import numpy as np\n",
    "import matplotlib.pyplot as plt\n",
    "import random\n",
    "import string\n",
    "import time\n",
    "from datetime import datetime\n",
    "def generate_random(size):\n",
    "       return ''.join(random.choice(string.ascii_letters) for x in range(size))"
   ]
  },
  {
   "cell_type": "markdown",
   "metadata": {},
   "source": [
    "# Processing Continuously Coming Data Using File Connector in Mule 4: Part1 Rename and back up"
   ]
  },
  {
   "cell_type": "markdown",
   "metadata": {},
   "source": [
    "![](rename_backup.PNG)"
   ]
  },
  {
   "cell_type": "markdown",
   "metadata": {},
   "source": [
    "#### Sample csv and png data"
   ]
  },
  {
   "cell_type": "code",
   "execution_count": 28,
   "metadata": {},
   "outputs": [
    {
     "data": {
      "text/html": [
       "<div>\n",
       "<style scoped>\n",
       "    .dataframe tbody tr th:only-of-type {\n",
       "        vertical-align: middle;\n",
       "    }\n",
       "\n",
       "    .dataframe tbody tr th {\n",
       "        vertical-align: top;\n",
       "    }\n",
       "\n",
       "    .dataframe thead th {\n",
       "        text-align: right;\n",
       "    }\n",
       "</style>\n",
       "<table border=\"1\" class=\"dataframe\">\n",
       "  <thead>\n",
       "    <tr style=\"text-align: right;\">\n",
       "      <th></th>\n",
       "      <th>PersonID</th>\n",
       "      <th>LastName</th>\n",
       "      <th>FirstName</th>\n",
       "      <th>Address</th>\n",
       "      <th>City</th>\n",
       "    </tr>\n",
       "  </thead>\n",
       "  <tbody>\n",
       "    <tr>\n",
       "      <th>0</th>\n",
       "      <td>132796</td>\n",
       "      <td>tjDs</td>\n",
       "      <td>DxxI</td>\n",
       "      <td>jiPM</td>\n",
       "      <td>PcgZ</td>\n",
       "    </tr>\n",
       "    <tr>\n",
       "      <th>1</th>\n",
       "      <td>38214</td>\n",
       "      <td>uoAf</td>\n",
       "      <td>VXbY</td>\n",
       "      <td>KenS</td>\n",
       "      <td>wEZZ</td>\n",
       "    </tr>\n",
       "    <tr>\n",
       "      <th>2</th>\n",
       "      <td>123154</td>\n",
       "      <td>EHXD</td>\n",
       "      <td>hRIK</td>\n",
       "      <td>QRUj</td>\n",
       "      <td>hGNu</td>\n",
       "    </tr>\n",
       "    <tr>\n",
       "      <th>3</th>\n",
       "      <td>151551</td>\n",
       "      <td>ypQn</td>\n",
       "      <td>yjRz</td>\n",
       "      <td>mehw</td>\n",
       "      <td>EGTd</td>\n",
       "    </tr>\n",
       "    <tr>\n",
       "      <th>4</th>\n",
       "      <td>84974</td>\n",
       "      <td>Dxtm</td>\n",
       "      <td>SxeT</td>\n",
       "      <td>RvLX</td>\n",
       "      <td>fPDJ</td>\n",
       "    </tr>\n",
       "    <tr>\n",
       "      <th>5</th>\n",
       "      <td>23181</td>\n",
       "      <td>Hwye</td>\n",
       "      <td>ZoXX</td>\n",
       "      <td>znrO</td>\n",
       "      <td>uhxi</td>\n",
       "    </tr>\n",
       "    <tr>\n",
       "      <th>6</th>\n",
       "      <td>141770</td>\n",
       "      <td>tFMS</td>\n",
       "      <td>CFFI</td>\n",
       "      <td>TQWc</td>\n",
       "      <td>UsCB</td>\n",
       "    </tr>\n",
       "    <tr>\n",
       "      <th>7</th>\n",
       "      <td>18868</td>\n",
       "      <td>vtiG</td>\n",
       "      <td>ULmI</td>\n",
       "      <td>dIxn</td>\n",
       "      <td>WQrr</td>\n",
       "    </tr>\n",
       "    <tr>\n",
       "      <th>8</th>\n",
       "      <td>176943</td>\n",
       "      <td>wOXh</td>\n",
       "      <td>QCoD</td>\n",
       "      <td>mDeD</td>\n",
       "      <td>arVl</td>\n",
       "    </tr>\n",
       "    <tr>\n",
       "      <th>9</th>\n",
       "      <td>137737</td>\n",
       "      <td>dZaP</td>\n",
       "      <td>UMMY</td>\n",
       "      <td>yFGw</td>\n",
       "      <td>kzvR</td>\n",
       "    </tr>\n",
       "  </tbody>\n",
       "</table>\n",
       "</div>"
      ],
      "text/plain": [
       "   PersonID LastName FirstName Address  City\n",
       "0    132796     tjDs      DxxI    jiPM  PcgZ\n",
       "1     38214     uoAf      VXbY    KenS  wEZZ\n",
       "2    123154     EHXD      hRIK    QRUj  hGNu\n",
       "3    151551     ypQn      yjRz    mehw  EGTd\n",
       "4     84974     Dxtm      SxeT    RvLX  fPDJ\n",
       "5     23181     Hwye      ZoXX    znrO  uhxi\n",
       "6    141770     tFMS      CFFI    TQWc  UsCB\n",
       "7     18868     vtiG      ULmI    dIxn  WQrr\n",
       "8    176943     wOXh      QCoD    mDeD  arVl\n",
       "9    137737     dZaP      UMMY    yFGw  kzvR"
      ]
     },
     "execution_count": 28,
     "metadata": {},
     "output_type": "execute_result"
    }
   ],
   "source": [
    "num_rows = 10\n",
    "num_characters = 4\n",
    "PersonID =  np.random.randint(low = 0, high = 200000, size=10)\n",
    "LastName =  [generate_random(num_characters) for x in range(num_rows)]\n",
    "FirstName = [generate_random(num_characters) for x in range(num_rows)]\n",
    "Address =   [generate_random(num_characters) for x in range(num_rows)]\n",
    "City =     [generate_random(num_characters) for x in range(num_rows)]\n",
    "df = pd.DataFrame({'PersonID':PersonID, 'LastName':LastName, 'FirstName':FirstName, 'Address':Address, 'City':City})\n",
    "df\n"
   ]
  },
  {
   "cell_type": "code",
   "execution_count": 29,
   "metadata": {},
   "outputs": [
    {
     "data": {
      "image/png": "[encoded data removed]",
      "text/plain": [
       "<Figure size 432x288 with 1 Axes>"
      ]
     },
     "metadata": {
      "needs_background": "light"
     },
     "output_type": "display_data"
    }
   ],
   "source": [
    "plt.plot(np.random.randint(low = 0, high = 100, size = 20))\n",
    "plt.savefig(file_name + 'png')\n",
    "plt.show()"
   ]
  },
  {
   "cell_type": "markdown",
   "metadata": {},
   "source": [
    "## Continuously genetate and save csv file and png plot evey second"
   ]
  },
  {
   "cell_type": "code",
   "execution_count": null,
   "metadata": {},
   "outputs": [],
   "source": [
    "num_rows = 10\n",
    "num_characters = 4\n",
    "while True:\n",
    "    PersonID =  np.random.randint(200000, size=10)\n",
    "    LastName =  [generate_random(num_characters) for x in range(num_rows)]\n",
    "    FirstName = [generate_random(num_characters) for x in range(num_rows)]\n",
    "    Address =   [generate_random(num_characters) for x in range(num_rows)]\n",
    "    City =     [generate_random(num_characters) for x in range(num_rows)]\n",
    "    df = pd.DataFrame({'PersonID':PersonID, 'LastName':LastName, 'FirstName':FirstName, 'Address':Address, 'City':City})\n",
    "    file_name = 'data/' + str(datetime.now()).replace(' ', '_').replace(\":\", '_')[:19]\n",
    "    df.to_csv(file_name + '.csv', index = False)\n",
    "    plt.plot(np.random.randint(low = 0, high = 100, size = 20))\n",
    "    plt.savefig(file_name + 'png')\n",
    "    time.sleep(3)"
   ]
  }
 ],
 "metadata": {
  "kernelspec": {
   "display_name": "Python 3",
   "language": "python",
   "name": "python3"
  },
  "language_info": {
   "codemirror_mode": {
    "name": "ipython",
    "version": 3
   },
   "file_extension": ".py",
   "mimetype": "text/x-python",
   "name": "python",
   "nbconvert_exporter": "python",
   "pygments_lexer": "ipython3",
   "version": "3.7.6"
  }
 },
 "nbformat": 4,
 "nbformat_minor": 4
}
