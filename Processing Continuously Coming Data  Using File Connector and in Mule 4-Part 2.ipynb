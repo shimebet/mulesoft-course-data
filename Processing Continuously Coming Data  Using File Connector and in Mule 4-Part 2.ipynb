{
 "cells": [
  {
   "cell_type": "markdown",
   "metadata": {},
   "source": [
    "![](insert_2_mysql_continous_data.PNG)"
   ]
  },
  {
   "cell_type": "markdown",
   "metadata": {},
   "source": [
    "[YouTube Video Tutorial](https://youtu.be/Mz2KxpnPfMI)"
   ]
  },
  {
   "cell_type": "markdown",
   "metadata": {},
   "source": [
    "## Create a database a table in MySQL\n",
    "\n",
    "CREATE DATABASE mulesoft;\n",
    "\n",
    "USE mulesoft;\n",
    "\n",
    "CREATE TABLE Persons (\n",
    "    PersonID int,\n",
    "    \n",
    "    LastName varchar(255),\n",
    "    \n",
    "    FirstName varchar(255),\n",
    "    \n",
    "    Address varchar(255),\n",
    "    \n",
    "    City varchar(255)\n",
    ");"
   ]
  },
  {
   "cell_type": "markdown",
   "metadata": {},
   "source": [
    "\n",
    "\n",
    "### SQL query string\n",
    "\n",
    "INSERT INTO Persons (PersonID,LastName, FirstName, Address, City)\n",
    "\n",
    "VALUES (:PersonID, :LastName, :FirstName, :Address, :City)\n",
    "\n",
    "\n",
    "### Input parameters\n",
    "\n",
    "{\"PersonID\":payload.PersonID,\n",
    "\n",
    " \"LastName\":payload.LastName,\n",
    " \n",
    " \"FirstName\":payload.FirstName,\n",
    " \n",
    " \"Address\": payload.Address,\n",
    " \n",
    " \"City\":payload.City}"
   ]
  },
  {
   "cell_type": "code",
   "execution_count": 4,
   "metadata": {},
   "outputs": [],
   "source": [
    "import pandas as pd\n",
    "import numpy as np\n",
    "import matplotlib.pyplot as plt\n",
    "import random\n",
    "import string\n",
    "import time\n",
    "from datetime import datetime\n",
    "import pymysql\n",
    "def generate_random(size):\n",
    "       return ''.join(random.choice(string.ascii_letters) for x in range(size))"
   ]
  },
  {
   "cell_type": "code",
   "execution_count": 5,
   "metadata": {},
   "outputs": [
    {
     "data": {
      "text/html": [
       "<div>\n",
       "<style scoped>\n",
       "    .dataframe tbody tr th:only-of-type {\n",
       "        vertical-align: middle;\n",
       "    }\n",
       "\n",
       "    .dataframe tbody tr th {\n",
       "        vertical-align: top;\n",
       "    }\n",
       "\n",
       "    .dataframe thead th {\n",
       "        text-align: right;\n",
       "    }\n",
       "</style>\n",
       "<table border=\"1\" class=\"dataframe\">\n",
       "  <thead>\n",
       "    <tr style=\"text-align: right;\">\n",
       "      <th></th>\n",
       "      <th>PersonID</th>\n",
       "      <th>LastName</th>\n",
       "      <th>FirstName</th>\n",
       "      <th>Address</th>\n",
       "      <th>City</th>\n",
       "    </tr>\n",
       "  </thead>\n",
       "  <tbody>\n",
       "    <tr>\n",
       "      <th>0</th>\n",
       "      <td>80352</td>\n",
       "      <td>ZibI</td>\n",
       "      <td>xpwo</td>\n",
       "      <td>fIyw</td>\n",
       "      <td>fEiY</td>\n",
       "    </tr>\n",
       "    <tr>\n",
       "      <th>1</th>\n",
       "      <td>110364</td>\n",
       "      <td>tZxA</td>\n",
       "      <td>UoUa</td>\n",
       "      <td>rDAS</td>\n",
       "      <td>PgPb</td>\n",
       "    </tr>\n",
       "    <tr>\n",
       "      <th>2</th>\n",
       "      <td>142463</td>\n",
       "      <td>YEJx</td>\n",
       "      <td>eOkD</td>\n",
       "      <td>CAoi</td>\n",
       "      <td>xXgp</td>\n",
       "    </tr>\n",
       "    <tr>\n",
       "      <th>3</th>\n",
       "      <td>137163</td>\n",
       "      <td>sqBr</td>\n",
       "      <td>McQh</td>\n",
       "      <td>iwtq</td>\n",
       "      <td>nKwA</td>\n",
       "    </tr>\n",
       "    <tr>\n",
       "      <th>4</th>\n",
       "      <td>161287</td>\n",
       "      <td>enTn</td>\n",
       "      <td>GEPi</td>\n",
       "      <td>Btsy</td>\n",
       "      <td>ZJmw</td>\n",
       "    </tr>\n",
       "    <tr>\n",
       "      <th>5</th>\n",
       "      <td>20635</td>\n",
       "      <td>zjHh</td>\n",
       "      <td>Duwj</td>\n",
       "      <td>qRcw</td>\n",
       "      <td>yrWg</td>\n",
       "    </tr>\n",
       "    <tr>\n",
       "      <th>6</th>\n",
       "      <td>156193</td>\n",
       "      <td>uSIi</td>\n",
       "      <td>offK</td>\n",
       "      <td>VvUA</td>\n",
       "      <td>TbMj</td>\n",
       "    </tr>\n",
       "    <tr>\n",
       "      <th>7</th>\n",
       "      <td>160445</td>\n",
       "      <td>whlI</td>\n",
       "      <td>LUlB</td>\n",
       "      <td>vKVu</td>\n",
       "      <td>uTPN</td>\n",
       "    </tr>\n",
       "    <tr>\n",
       "      <th>8</th>\n",
       "      <td>39257</td>\n",
       "      <td>KIaM</td>\n",
       "      <td>LEkI</td>\n",
       "      <td>MIsi</td>\n",
       "      <td>dMyp</td>\n",
       "    </tr>\n",
       "    <tr>\n",
       "      <th>9</th>\n",
       "      <td>22778</td>\n",
       "      <td>OJYo</td>\n",
       "      <td>xBxi</td>\n",
       "      <td>JOYQ</td>\n",
       "      <td>bLNF</td>\n",
       "    </tr>\n",
       "  </tbody>\n",
       "</table>\n",
       "</div>"
      ],
      "text/plain": [
       "   PersonID LastName FirstName Address  City\n",
       "0     80352     ZibI      xpwo    fIyw  fEiY\n",
       "1    110364     tZxA      UoUa    rDAS  PgPb\n",
       "2    142463     YEJx      eOkD    CAoi  xXgp\n",
       "3    137163     sqBr      McQh    iwtq  nKwA\n",
       "4    161287     enTn      GEPi    Btsy  ZJmw\n",
       "5     20635     zjHh      Duwj    qRcw  yrWg\n",
       "6    156193     uSIi      offK    VvUA  TbMj\n",
       "7    160445     whlI      LUlB    vKVu  uTPN\n",
       "8     39257     KIaM      LEkI    MIsi  dMyp\n",
       "9     22778     OJYo      xBxi    JOYQ  bLNF"
      ]
     },
     "execution_count": 5,
     "metadata": {},
     "output_type": "execute_result"
    }
   ],
   "source": [
    "num_rows = 10\n",
    "num_characters = 4\n",
    "PersonID =  np.random.randint(low = 0, high = 200000, size=10)\n",
    "LastName =  [generate_random(num_characters) for x in range(num_rows)]\n",
    "FirstName = [generate_random(num_characters) for x in range(num_rows)]\n",
    "Address =   [generate_random(num_characters) for x in range(num_rows)]\n",
    "City =     [generate_random(num_characters) for x in range(num_rows)]\n",
    "df = pd.DataFrame({'PersonID':PersonID, 'LastName':LastName, 'FirstName':FirstName, 'Address':Address, 'City':City})\n",
    "df"
   ]
  },
  {
   "cell_type": "code",
   "execution_count": 6,
   "metadata": {},
   "outputs": [
    {
     "data": {
      "image/png": "[encoded data removed]",
      "text/plain": [
       "<Figure size 432x288 with 1 Axes>"
      ]
     },
     "metadata": {
      "needs_background": "light"
     },
     "output_type": "display_data"
    }
   ],
   "source": [
    "plt.plot(np.random.randint(low = 0, high = 100, size = 20))\n",
    "plt.show()"
   ]
  },
  {
   "cell_type": "markdown",
   "metadata": {},
   "source": [
    "## Continuously genetate and save csv file and png plot evey second"
   ]
  },
  {
   "cell_type": "code",
   "execution_count": null,
   "metadata": {},
   "outputs": [],
   "source": [
    "num_rows = 10\n",
    "num_characters = 4\n",
    "while True:\n",
    "    PersonID =  np.random.randint(200000, size=10)\n",
    "    LastName =  [generate_random(num_characters) for x in range(num_rows)]\n",
    "    FirstName = [generate_random(num_characters) for x in range(num_rows)]\n",
    "    Address =   [generate_random(num_characters) for x in range(num_rows)]\n",
    "    City =     [generate_random(num_characters) for x in range(num_rows)]\n",
    "    df = pd.DataFrame({'PersonID':PersonID, 'LastName':LastName, 'FirstName':FirstName, 'Address':Address, 'City':City})\n",
    "    file_name = 'data/' + str(datetime.now()).replace(' ', '_').replace(\":\", '_')[:19]\n",
    "    df.to_csv(file_name + '.csv', index = False)\n",
    "    plt.plot(np.random.randint(low = 0, high = 100, size = 20))\n",
    "    plt.savefig(file_name + 'png')\n",
    "    time.sleep(5)"
   ]
  },
  {
   "cell_type": "markdown",
   "metadata": {},
   "source": [
    "## Check data is being inserted into the database"
   ]
  },
  {
   "cell_type": "code",
   "execution_count": 6,
   "metadata": {},
   "outputs": [
    {
     "name": "stdout",
     "output_type": "stream",
     "text": [
      "Number of rows:  1370\n",
      "Number of rows:  1378\n",
      "Number of rows:  1380\n",
      "Number of rows:  1390\n",
      "Number of rows:  1390\n",
      "Number of rows:  1400\n",
      "Number of rows:  1407\n",
      "Number of rows:  1410\n"
     ]
    }
   ],
   "source": [
    "host = \"localhost\"\n",
    "port = 3306\n",
    "dbname = \"mulesoft\"\n",
    "user = \"root\"\n",
    "password = \"a1b2c3d4!\"\n",
    "\n",
    "\n",
    "while True:\n",
    "\n",
    "    conn = pymysql.connect(host, user = user,port = port,\n",
    "                               passwd = password, db = dbname)\n",
    "    df = pd.read_sql('select current_timestamp() as time, count(*) AS count from Persons;', con = conn)\n",
    "    conn.close()\n",
    "    print('Number of rows: ', df['count'].tolist()[0])\n",
    "    time.sleep(3)"
   ]
  }
 ],
 "metadata": {
  "kernelspec": {
   "display_name": "Python 3",
   "language": "python",
   "name": "python3"
  },
  "language_info": {
   "codemirror_mode": {
    "name": "ipython",
    "version": 3
   },
   "file_extension": ".py",
   "mimetype": "text/x-python",
   "name": "python",
   "nbconvert_exporter": "python",
   "pygments_lexer": "ipython3",
   "version": "3.7.6"
  }
 },
 "nbformat": 4,
 "nbformat_minor": 4
}
