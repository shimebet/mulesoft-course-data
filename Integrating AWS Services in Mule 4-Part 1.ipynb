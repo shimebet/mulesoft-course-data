{
 "cells": [
  {
   "cell_type": "code",
   "execution_count": null,
   "metadata": {},
   "outputs": [],
   "source": [
    "from IPython.display import Image\n",
    "import pandas as pd\n",
    "import numpy as np\n",
    "import matplotlib.pyplot as plt\n",
    "import random\n",
    "import string\n",
    "import time\n",
    "from datetime import datetime\n",
    "import pymysql\n",
    "from IPython.display import Image\n",
    "from sqlalchemy import create_engine\n",
    "import pandas as pd\n",
    "import boto3\n",
    "import json\n",
    "def generate_random(size):\n",
    "       return ''.join(random.choice(string.ascii_letters) for x in range(size))"
   ]
  },
  {
   "cell_type": "markdown",
   "metadata": {},
   "source": [
    "![](part1.PNG)"
   ]
  },
  {
   "cell_type": "markdown",
   "metadata": {},
   "source": [
    "[YouTube Video Tutorial](https://youtu.be/vsxoADzVG8c)"
   ]
  },
  {
   "cell_type": "markdown",
   "metadata": {},
   "source": [
    "## Continuously genetate and save csv files every 2 seconds"
   ]
  },
  {
   "cell_type": "code",
   "execution_count": null,
   "metadata": {},
   "outputs": [],
   "source": [
    "num_rows = 10\n",
    "num_characters = 4\n",
    "while True:\n",
    "    PersonID =  np.random.randint(200000, size=10)\n",
    "    LastName =  [generate_random(num_characters) for x in range(num_rows)]\n",
    "    FirstName = [generate_random(num_characters) for x in range(num_rows)]\n",
    "    Address =   [generate_random(num_characters) for x in range(num_rows)]\n",
    "    City =     [generate_random(num_characters) for x in range(num_rows)]\n",
    "    df = pd.DataFrame({'PersonID':PersonID, 'LastName':LastName, 'FirstName':FirstName, 'Address':Address, 'City':City})\n",
    "    file_name = 'data/' + str(datetime.now()).replace(' ', '_').replace(\":\", '_')[:19]\n",
    "    df.to_csv(file_name + '.csv', index = False)\n",
    "    time.sleep(2)"
   ]
  },
  {
   "cell_type": "code",
   "execution_count": 6,
   "metadata": {},
   "outputs": [],
   "source": [
    "with open('credentials.json') as f:\n",
    "    credentials = json.load(f)\n",
    "\n",
    "session = boto3.Session(\n",
    "            aws_access_key_id = credentials['AWSAccessKeyId'],\n",
    "            aws_secret_access_key = credentials['AWSSecretKey'],\n",
    "             )\n",
    "s3 = session.resource('s3')\n",
    "my_bucket = s3.Bucket('fish-mulesoft')"
   ]
  },
  {
   "cell_type": "code",
   "execution_count": 7,
   "metadata": {},
   "outputs": [
    {
     "name": "stdout",
     "output_type": "stream",
     "text": [
      "Number of files in the bucket is  23\n",
      "Number of files in the bucket is  28\n",
      "Number of files in the bucket is  31\n",
      "Number of files in the bucket is  33\n",
      "Number of files in the bucket is  36\n",
      "Number of files in the bucket is  38\n",
      "Number of files in the bucket is  41\n",
      "Number of files in the bucket is  43\n",
      "Number of files in the bucket is  46\n",
      "Number of files in the bucket is  48\n",
      "Number of files in the bucket is  51\n",
      "Number of files in the bucket is  53\n",
      "Number of files in the bucket is  56\n",
      "Number of files in the bucket is  58\n",
      "Number of files in the bucket is  61\n",
      "Number of files in the bucket is  63\n",
      "Number of files in the bucket is  66\n",
      "Number of files in the bucket is  68\n",
      "Number of files in the bucket is  71\n",
      "Number of files in the bucket is  73\n"
     ]
    },
    {
     "ename": "KeyboardInterrupt",
     "evalue": "",
     "output_type": "error",
     "traceback": [
      "\u001b[1;31m---------------------------------------------------------------------------\u001b[0m",
      "\u001b[1;31mKeyboardInterrupt\u001b[0m                         Traceback (most recent call last)",
      "\u001b[1;32m<ipython-input-7-60ab54c9fef6>\u001b[0m in \u001b[0;36m<module>\u001b[1;34m\u001b[0m\n\u001b[0;32m      2\u001b[0m     \u001b[0mnumber_of_files\u001b[0m \u001b[1;33m=\u001b[0m \u001b[1;33m[\u001b[0m\u001b[0mfile\u001b[0m\u001b[1;33m.\u001b[0m\u001b[0mkey\u001b[0m \u001b[1;32mfor\u001b[0m \u001b[0mfile\u001b[0m \u001b[1;32min\u001b[0m \u001b[0mmy_bucket\u001b[0m\u001b[1;33m.\u001b[0m\u001b[0mobjects\u001b[0m\u001b[1;33m.\u001b[0m\u001b[0mall\u001b[0m\u001b[1;33m(\u001b[0m\u001b[1;33m)\u001b[0m\u001b[1;33m]\u001b[0m\u001b[1;33m\u001b[0m\u001b[1;33m\u001b[0m\u001b[0m\n\u001b[0;32m      3\u001b[0m     \u001b[0mprint\u001b[0m\u001b[1;33m(\u001b[0m\u001b[1;34m'Number of files in the bucket is '\u001b[0m\u001b[1;33m,\u001b[0m \u001b[0mlen\u001b[0m\u001b[1;33m(\u001b[0m\u001b[0mnumber_of_files\u001b[0m\u001b[1;33m)\u001b[0m\u001b[1;33m)\u001b[0m\u001b[1;33m\u001b[0m\u001b[1;33m\u001b[0m\u001b[0m\n\u001b[1;32m----> 4\u001b[1;33m     \u001b[0mtime\u001b[0m\u001b[1;33m.\u001b[0m\u001b[0msleep\u001b[0m\u001b[1;33m(\u001b[0m\u001b[1;36m5\u001b[0m\u001b[1;33m)\u001b[0m\u001b[1;33m\u001b[0m\u001b[1;33m\u001b[0m\u001b[0m\n\u001b[0m",
      "\u001b[1;31mKeyboardInterrupt\u001b[0m: "
     ]
    }
   ],
   "source": [
    "while True:\n",
    "    number_of_files = [file.key for file in my_bucket.objects.all()]\n",
    "    print('Number of files in the bucket is ', len(number_of_files))\n",
    "    time.sleep(5)"
   ]
  }
 ],
 "metadata": {
  "kernelspec": {
   "display_name": "Python 3",
   "language": "python",
   "name": "python3"
  },
  "language_info": {
   "codemirror_mode": {
    "name": "ipython",
    "version": 3
   },
   "file_extension": ".py",
   "mimetype": "text/x-python",
   "name": "python",
   "nbconvert_exporter": "python",
   "pygments_lexer": "ipython3",
   "version": "3.7.6"
  }
 },
 "nbformat": 4,
 "nbformat_minor": 4
}
