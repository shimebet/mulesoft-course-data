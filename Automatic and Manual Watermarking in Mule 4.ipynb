{
 "cells": [
  {
   "cell_type": "markdown",
   "metadata": {},
   "source": [
    "![](water_marking.PNG)"
   ]
  },
  {
   "cell_type": "code",
   "execution_count": 2,
   "metadata": {},
   "outputs": [],
   "source": [
    "from IPython.display import Image\n",
    "import pandas as pd\n",
    "import numpy as np\n",
    "import matplotlib.pyplot as plt\n",
    "import random\n",
    "import string\n",
    "import time\n",
    "from datetime import datetime\n",
    "import pymysql\n",
    "from IPython.display import Image\n",
    "from sqlalchemy import create_engine\n",
    "from random import sample"
   ]
  },
  {
   "cell_type": "markdown",
   "metadata": {},
   "source": [
    "[YouTube Video Tutorial](https://youtu.be/LmHrjUMslhs)"
   ]
  },
  {
   "cell_type": "markdown",
   "metadata": {},
   "source": [
    "## Create a database a table in MySQL\n",
    "\n",
    "CREATE DATABASE watermarking;\n",
    "\n",
    "USE watermarking;\n",
    "\n",
    "CREATE TABLE Persons (\n",
    "\n",
    "    PersonID int,\n",
    "    \n",
    "    LastName varchar(255),\n",
    "    \n",
    "    FirstName varchar(255),\n",
    "    \n",
    "    Address varchar(255),\n",
    "    \n",
    "    City varchar(255),\n",
    "    State varchar(255)\n",
    ");"
   ]
  },
  {
   "cell_type": "code",
   "execution_count": 3,
   "metadata": {},
   "outputs": [
    {
     "data": {
      "text/plain": [
       "\"\\n        INSERT INTO Persons (PersonID, LastName, FirstName, Address, City, State)\\n        VALUES (1, 'uCwW', 'YteQ', 'Tpmk', 'qwfZ', 'Wisconsin')\\n     \""
      ]
     },
     "execution_count": 3,
     "metadata": {},
     "output_type": "execute_result"
    }
   ],
   "source": [
    "def generate_random():\n",
    "       return ''.join(random.choice(string.ascii_letters) for x in range(4))\n",
    "    \n",
    "PersonID = 1\n",
    "LastName =  generate_random() \n",
    "FirstName = generate_random() \n",
    "Address =   generate_random() \n",
    "City =     generate_random()\n",
    "States = [\"Alaska\", \"Alabama\", \"Arkansas\", \"American Samoa\", \"Arizona\", \"California\", \"Colorado\", \"Connecticut\", \"District \", \"of Columbia\", \"Delaware\", \"Florida\", \"Georgia\", \"Guam\", \"Hawaii\", \"Iowa\", \"Idaho\", \"Illinois\", \"Indiana\", \"Kansas\", \"Kentucky\", \"Louisiana\", \"Massachusetts\", \"Maryland\", \"Maine\", \"Michigan\", \"Minnesota\", \"Missouri\", \"Mississippi\", \"Montana\", \"North Carolina\", \"North Dakota\", \"Nebraska\", \"New Hampshire\", \"New Jersey\", \"New Mexico\", \"Nevada\", \"New York\", \"Ohio\", \"Oklahoma\", \"Oregon\", \"Pennsylvania\", \"Puerto Rico\", \"Rhode Island\", \"South Carolina\", \"South Dakota\", \"Tennessee\", \"Texas\", \"Utah\", \"Virginia\", \"Virgin Islands\", \"Vermont\", \"Washington\", \"Wisconsin\", \"West Virginia\", \"Wyoming\"]\n",
    "State = sample(States, 1)[0]\n",
    "insert_sql_script = f\"\"\"\n",
    "        INSERT INTO Persons (PersonID, LastName, FirstName, Address, City, State)\n",
    "        VALUES ({PersonID}, '{LastName}', '{FirstName}', '{Address}', '{City}', '{State}')\n",
    "     \"\"\"\n",
    "insert_sql_script"
   ]
  },
  {
   "cell_type": "markdown",
   "metadata": {},
   "source": [
    "## Continuously genetate data and insert into database every 5 seconds"
   ]
  },
  {
   "cell_type": "code",
   "execution_count": null,
   "metadata": {},
   "outputs": [],
   "source": [
    "PersonID = 1\n",
    "while True:\n",
    "    LastName =  generate_random()\n",
    "    FirstName = generate_random() \n",
    "    Address =   generate_random() \n",
    "    City =     generate_random() \n",
    "    States = [\"Alaska\", \"Alabama\", \"Arkansas\",  \"Arizona\", \"California\", \"Colorado\", \"Connecticut\", \"District of Columbia\", \"Delaware\", \"Florida\", \"Georgia\",  \"Iowa\", \"Idaho\", \"Illinois\", \"Indiana\", \"Kansas\", \"Kentucky\", \"Louisiana\", \"Massachusetts\", \"Maryland\", \"Maine\", \"Michigan\", \"Minnesota\", \"Missouri\", \"Mississippi\", \"Montana\", \"North Carolina\", \"North Dakota\", \"Nebraska\", \"New Hampshire\", \"New Jersey\", \"New Mexico\", \"Nevada\", \"New York\", \"Ohio\", \"Oklahoma\", \"Oregon\", \"Pennsylvania\", \"Rhode Island\", \"South Carolina\", \"South Dakota\", \"Tennessee\", \"Texas\", \"Utah\", \"Virginia\", \"Virgin Islands\", \"Vermont\", \"Washington\", \"Wisconsin\", \"West Virginia\", \"Wyoming\"]\n",
    "    State = sample(States, 1)[0]\n",
    "    \n",
    "    conn_mysql = pymysql.connect(host, user = user,port = port,\n",
    "                               passwd = password, db = dbname)\n",
    "    \n",
    "    cursor = conn_mysql.cursor()\n",
    "    insert_sql_script = f\"\"\"\n",
    "        INSERT INTO Persons (PersonID, LastName, FirstName, Address, City, State)\n",
    "        VALUES ({PersonID}, '{LastName}', '{FirstName}', '{Address}', '{City}', '{State}')\n",
    "     \"\"\"\n",
    "    # Execute the query\n",
    "    cursor.execute(insert_sql_script)\n",
    "    \n",
    "    # the connection is not autocommited by default. So we must commit to save our changes.\n",
    "    conn_mysql.commit()\n",
    "    \n",
    "    # Close the connection\n",
    "    conn_mysql.close()\n",
    "    \n",
    "    print({'PersonID':PersonID,'LastName':LastName, 'FirstName':FirstName, 'Address':Address, 'City':City, 'State': State})\n",
    "        \n",
    "    PersonID = PersonID + 1\n",
    "    \n",
    "    time.sleep(5)"
   ]
  },
  {
   "cell_type": "markdown",
   "metadata": {},
   "source": [
    "###  Automatic watermarking\n",
    "     - Use On table row to trigger a flow\n",
    "     - If there is a new record in MySQL database, export it to CSV. Append if file exists.\n",
    "     \n",
    "     \n",
    "### Manual watermarking\n",
    "     - Insert New England data into Postgres\n",
    "     - New England States: Connecticut, Maine, Massachusetts, New Hampshire, Rhode Island, and Vermont\n",
    "     - Insert all columns except City\n",
    "     - Use scheduler to trigger a flow and use objectstore for keeping track of the data that has been already inserted."
   ]
  }
 ],
 "metadata": {
  "kernelspec": {
   "display_name": "Python 3",
   "language": "python",
   "name": "python3"
  },
  "language_info": {
   "codemirror_mode": {
    "name": "ipython",
    "version": 3
   },
   "file_extension": ".py",
   "mimetype": "text/x-python",
   "name": "python",
   "nbconvert_exporter": "python",
   "pygments_lexer": "ipython3",
   "version": "3.7.6"
  }
 },
 "nbformat": 4,
 "nbformat_minor": 4
}
